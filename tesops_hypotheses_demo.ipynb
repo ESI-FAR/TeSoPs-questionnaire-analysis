{
 "cells": [
  {
   "cell_type": "markdown",
   "id": "86ca5e4f-1e1d-4557-91dc-a42ac4368fb6",
   "metadata": {},
   "source": [
    "# Testing hypotheses on synthetic dummy data"
   ]
  },
  {
   "cell_type": "markdown",
   "id": "c760c4a2-3b81-43c1-8c8a-8c90c8db0b77",
   "metadata": {},
   "source": [
    "## Setup & loading data"
   ]
  },
  {
   "cell_type": "code",
   "execution_count": 1,
   "id": "dcea0745-9e3b-432a-98c8-917b3fe9e1c3",
   "metadata": {},
   "outputs": [],
   "source": [
    "import numpy as np\n",
    "import pandas as pd\n",
    "from scipy.stats import ttest_1samp, ttest_rel"
   ]
  },
  {
   "cell_type": "code",
   "execution_count": 2,
   "id": "1f9dfb5e-79dd-4882-b7de-d91824224c52",
   "metadata": {},
   "outputs": [],
   "source": [
    "responses_t1 = pd.read_csv(\"dataset_T1.csv\")\n",
    "responses_t2 = pd.read_csv(\"dataset_T2.csv\")"
   ]
  },
  {
   "cell_type": "markdown",
   "id": "36262f1c-504d-44bc-ace2-bbcf9a52696f",
   "metadata": {},
   "source": [
    "### Create the aggregated values"
   ]
  },
  {
   "cell_type": "markdown",
   "id": "09ad0b8a-0f4a-4b10-a987-b4121af2d6c3",
   "metadata": {},
   "source": [
    "biospheric ((pv19 + pv22)/2), altruistic ((pv3 + pv12 + pv18)/3), hedonic ((pv10 + pv21)/2) and egoistic ((pv2 + pv4 + pv13)/3)"
   ]
  },
  {
   "cell_type": "code",
   "execution_count": 3,
   "id": "1eac06c7-179b-4105-a1d3-0989e9e2bf8d",
   "metadata": {},
   "outputs": [],
   "source": [
    "responses_t1['egoistic']   = responses_t1[[f'pv{i}' for i in [ 2,  4, 13]]].mean()\n",
    "responses_t1['altruistic'] = responses_t1[[f'pv{i}' for i in [ 3, 12, 18]]].mean()\n",
    "responses_t1['hedonic']    = responses_t1[[f'pv{i}' for i in [10, 21]]].mean()\n",
    "responses_t1['biospheric'] = responses_t1[[f'pv{i}' for i in [19, 22]]].mean()"
   ]
  },
  {
   "cell_type": "markdown",
   "id": "9196086d-0e25-4cba-832d-bb14d4fb85dc",
   "metadata": {},
   "source": [
    "## Changes in energy-saving behaviour"
   ]
  },
  {
   "cell_type": "markdown",
   "id": "1e506e8d-fdb7-467c-9160-15c554e4d007",
   "metadata": {},
   "source": [
    "1.\tThere is a difference between the set room temperature at time one (temp_pref_1, temp_pref_2, temp_pref_3, temp_pref_4, temp_pref_5) and time two (temp_pref_1_t2, temp_pref_2_t2, temp_pref_3_t2, temp_pref_4_t2, temp_pref_5_t2), so that it is higher at time two. \r\n",
    "Proposed analysis: t-test. \r\n"
   ]
  },
  {
   "cell_type": "code",
   "execution_count": 4,
   "id": "1b54bc7c-4899-47b8-a9eb-29d2d323c725",
   "metadata": {},
   "outputs": [
    {
     "name": "stdout",
     "output_type": "stream",
     "text": [
      "Test for temp_pref_1: TtestResult(statistic=-0.9585487119228076, pvalue=0.17006062139351663, df=99)\n",
      "Test for temp_pref_2: TtestResult(statistic=1.1161418858721988, pvalue=0.8664684136125256, df=99)\n",
      "Test for temp_pref_3: TtestResult(statistic=0.9228791308292538, pvalue=0.8208430181259463, df=99)\n",
      "Test for temp_pref_4: TtestResult(statistic=0.5769906816497485, pvalue=0.7173722500392348, df=99)\n",
      "Test for temp_pref_5: TtestResult(statistic=0.3534294541816439, pvalue=0.637740995759017, df=99)\n"
     ]
    }
   ],
   "source": [
    "# Testing difference between two related samples with expectation that t1 < t2\n",
    "for i in range(1, 6):\n",
    "    test_result = ttest_rel(responses_t1[f'temp_pref_{i}'], responses_t2[f'temp_pref_{i}_t2'], alternative='less')\n",
    "    print(f'Test for temp_pref_{i}: {test_result}')"
   ]
  },
  {
   "cell_type": "markdown",
   "id": "9e6001e7-bedd-499d-b42e-811dd03f0c04",
   "metadata": {},
   "source": [
    "2.\tThere is a difference in curtailment behaviours (empty, clothes, night, away, shut, shw_time): they are lower at time two (empty_t2, clothes_t2, night_t2, away_t2, shut_t2, shw_time_t2). \n",
    "Proposed analysis: t-test. "
   ]
  },
  {
   "cell_type": "code",
   "execution_count": null,
   "id": "28f380af-4f94-4202-95cf-d5ed16bf6f14",
   "metadata": {},
   "outputs": [],
   "source": [
    "# Testing difference between two related samples with expectation that t1 > t2\n",
    "for description in ['empty', 'clothes', 'night', 'away', 'shut', 'shw_time']:\n",
    "    test_result = ttest_rel(df[f'{description}'], df[f'{description}_t2'], alternative='greater')\n",
    "    print(f'Test for {description}: {test_result}')"
   ]
  },
  {
   "cell_type": "markdown",
   "id": "76309de5-cc17-45bb-8c84-13f32751ecb8",
   "metadata": {},
   "source": [
    "## Changes in energy-saving behaviour differ based on intrinsic motivation"
   ]
  },
  {
   "cell_type": "markdown",
   "id": "e542d14b-924b-4dfb-bd7d-500e8c56e4fe",
   "metadata": {},
   "source": [
    "1.\tStronger biospheric and altruistic values (Bio_values, Altr_values) will be associated with smaller differences in temperature settings between time one (temp_pref_4, temp_pref_5, temp_pref_6) and time two (temp_pref_4_t2, temp_pref_5_t2, temp_pref_6_t2).  \n",
    "Proposed analysis: Pearson’s correlation or linear regression."
   ]
  },
  {
   "cell_type": "code",
   "execution_count": null,
   "id": "8c6c391c-a970-43ce-9272-9286a2f1a619",
   "metadata": {},
   "outputs": [],
   "source": []
  },
  {
   "cell_type": "markdown",
   "id": "3e389262-c4ff-4b56-a365-0a5b502f00fd",
   "metadata": {},
   "source": [
    " 2.\tStronger egoistic and hedonic values (Ego_values, Hed_values) will be associated with larger differences in temperature settings between time one (temp_pref_4, temp_pref_5, temp_pref_6) and time two (temp_pref_4_t2, temp_pref_5_t2, temp_pref_6_t2).\n",
    "Proposed analysis: Pearson’s correlation or linear regression."
   ]
  },
  {
   "cell_type": "code",
   "execution_count": null,
   "id": "cccd6073-ef96-491c-8d14-82f0de8ff430",
   "metadata": {},
   "outputs": [],
   "source": []
  },
  {
   "cell_type": "markdown",
   "id": "d59c997d-19ed-46ad-9107-ef9a5b9aaf50",
   "metadata": {},
   "source": [
    "3.\tStronger biospheric and altruistic values (Bio_values, Altr_values) will be associated with smaller differences in curtailment behaviours between time one (empty, clothes, night, away, shut, shw_time, shw_time, shw_time_num, shw_frw_num, bath_num) and time two (empty_t2, clothes_t2, night_t2, away_t2, shut_t2, shw_time_t2, shw_time_t2, shw_time_num_t2, shw_frw_num_t2, bath_num_t2).\n",
    "Proposed analysis: Pearson’s correlation or linear regression."
   ]
  },
  {
   "cell_type": "code",
   "execution_count": null,
   "id": "f5fde1e1-322a-418c-a413-9dec9186d7cb",
   "metadata": {},
   "outputs": [],
   "source": []
  },
  {
   "cell_type": "markdown",
   "id": "3d365b70-def7-457c-b395-724a0ed7ada1",
   "metadata": {},
   "source": [
    "4.\tStronger egoistic and hedonic values (Ego_values, Hed_values) will be associated with bigger differences in curtailment behaviours between time one (empty, clothes, night, away, shut, shw_time, shw_time_num, shw_frw_num, bath_num) and time two (empty_t2, clothes_t2, night_t2, away_t2, shut_t2, shw_time_t2, shw_time_t2, shw_time_num_t2, shw_frw_num_t2, bath_num_t2).\n",
    "Proposed analysis: Pearson’s correlation or linear regression."
   ]
  },
  {
   "cell_type": "code",
   "execution_count": null,
   "id": "7d3e6acd-6eb3-40e9-afdf-f76518558c38",
   "metadata": {},
   "outputs": [],
   "source": []
  }
 ],
 "metadata": {
  "kernelspec": {
   "display_name": "Python 3 (ipykernel)",
   "language": "python",
   "name": "python3"
  },
  "language_info": {
   "codemirror_mode": {
    "name": "ipython",
    "version": 3
   },
   "file_extension": ".py",
   "mimetype": "text/x-python",
   "name": "python",
   "nbconvert_exporter": "python",
   "pygments_lexer": "ipython3",
   "version": "3.12.1"
  }
 },
 "nbformat": 4,
 "nbformat_minor": 5
}

{
 "cells": [
  {
   "cell_type": "markdown",
   "id": "86ca5e4f-1e1d-4557-91dc-a42ac4368fb6",
   "metadata": {},
   "source": [
    "# Testing hypotheses on synthetic dummy data"
   ]
  },
  {
   "cell_type": "markdown",
   "id": "c760c4a2-3b81-43c1-8c8a-8c90c8db0b77",
   "metadata": {},
   "source": [
    "## Setup & loading data"
   ]
  },
  {
   "cell_type": "code",
   "execution_count": 1,
   "id": "dcea0745-9e3b-432a-98c8-917b3fe9e1c3",
   "metadata": {},
   "outputs": [],
   "source": [
    "from itertools import product\n",
    "\n",
    "import matplotlib.pyplot as plt\n",
    "import numpy as np\n",
    "import pandas as pd\n",
    "from scipy.stats import pearsonr, ttest_1samp, ttest_rel\n",
    "from sklearn.linear_model import LinearRegression"
   ]
  },
  {
   "cell_type": "code",
   "execution_count": 2,
   "id": "1f9dfb5e-79dd-4882-b7de-d91824224c52",
   "metadata": {},
   "outputs": [],
   "source": [
    "responses_t1 = pd.read_csv(\"dataset_T1.csv\", index_col=0)\n",
    "responses_t2 = pd.read_csv(\"dataset_T2.csv\", index_col=0)\n",
    "\n",
    "# Explicltly calculate differences between the *_t2 columns in the responses_t2 dataframe, using the names as in the responses_t1 dataframe\n",
    "differences = responses_t1[[column[:-3] for column in responses_t2.columns]] - responses_t2.rename(columns=lambda x: x[:-3])"
   ]
  },
  {
   "cell_type": "markdown",
   "id": "36262f1c-504d-44bc-ace2-bbcf9a52696f",
   "metadata": {},
   "source": [
    "### Create the aggregated values"
   ]
  },
  {
   "cell_type": "markdown",
   "id": "09ad0b8a-0f4a-4b10-a987-b4121af2d6c3",
   "metadata": {},
   "source": [
    "biospheric ((pv19 + pv22)/2), altruistic ((pv3 + pv12 + pv18)/3), hedonic ((pv10 + pv21)/2) and egoistic ((pv2 + pv4 + pv13)/3)"
   ]
  },
  {
   "cell_type": "code",
   "execution_count": 3,
   "id": "1eac06c7-179b-4105-a1d3-0989e9e2bf8d",
   "metadata": {},
   "outputs": [
    {
     "data": {
      "text/html": [
       "<div>\n",
       "<style scoped>\n",
       "    .dataframe tbody tr th:only-of-type {\n",
       "        vertical-align: middle;\n",
       "    }\n",
       "\n",
       "    .dataframe tbody tr th {\n",
       "        vertical-align: top;\n",
       "    }\n",
       "\n",
       "    .dataframe thead th {\n",
       "        text-align: right;\n",
       "    }\n",
       "</style>\n",
       "<table border=\"1\" class=\"dataframe\">\n",
       "  <thead>\n",
       "    <tr style=\"text-align: right;\">\n",
       "      <th></th>\n",
       "      <th>altruistic</th>\n",
       "      <th>biospheric</th>\n",
       "      <th>egoistic</th>\n",
       "      <th>hedonic</th>\n",
       "    </tr>\n",
       "  </thead>\n",
       "  <tbody>\n",
       "    <tr>\n",
       "      <th>participant_0</th>\n",
       "      <td>5.666667</td>\n",
       "      <td>2.0</td>\n",
       "      <td>2.666667</td>\n",
       "      <td>5.0</td>\n",
       "    </tr>\n",
       "    <tr>\n",
       "      <th>participant_1</th>\n",
       "      <td>4.000000</td>\n",
       "      <td>4.0</td>\n",
       "      <td>3.000000</td>\n",
       "      <td>3.5</td>\n",
       "    </tr>\n",
       "    <tr>\n",
       "      <th>participant_2</th>\n",
       "      <td>1.666667</td>\n",
       "      <td>4.5</td>\n",
       "      <td>3.666667</td>\n",
       "      <td>5.0</td>\n",
       "    </tr>\n",
       "    <tr>\n",
       "      <th>participant_3</th>\n",
       "      <td>5.000000</td>\n",
       "      <td>5.0</td>\n",
       "      <td>3.000000</td>\n",
       "      <td>4.0</td>\n",
       "    </tr>\n",
       "    <tr>\n",
       "      <th>participant_4</th>\n",
       "      <td>3.666667</td>\n",
       "      <td>6.0</td>\n",
       "      <td>5.333333</td>\n",
       "      <td>3.0</td>\n",
       "    </tr>\n",
       "  </tbody>\n",
       "</table>\n",
       "</div>"
      ],
      "text/plain": [
       "               altruistic  biospheric  egoistic  hedonic\n",
       "participant_0    5.666667         2.0  2.666667      5.0\n",
       "participant_1    4.000000         4.0  3.000000      3.5\n",
       "participant_2    1.666667         4.5  3.666667      5.0\n",
       "participant_3    5.000000         5.0  3.000000      4.0\n",
       "participant_4    3.666667         6.0  5.333333      3.0"
      ]
     },
     "execution_count": 3,
     "metadata": {},
     "output_type": "execute_result"
    }
   ],
   "source": [
    "aggregation_names = ['altruistic', 'biospheric', 'egoistic', 'hedonic']\n",
    "responses_t1['hedonic']    = responses_t1[[f'pv{i}' for i in [10, 21]]].mean(axis=1)\n",
    "responses_t1['biospheric'] = responses_t1[[f'pv{i}' for i in [19, 22]]].mean(axis=1)\n",
    "responses_t1['egoistic']   = responses_t1[[f'pv{i}' for i in [ 2,  4, 13]]].mean(axis=1)\n",
    "responses_t1['altruistic'] = responses_t1[[f'pv{i}' for i in [ 3, 12, 18]]].mean(axis=1)\n",
    "\n",
    "responses_t1[aggregation_names].head()"
   ]
  },
  {
   "cell_type": "markdown",
   "id": "9196086d-0e25-4cba-832d-bb14d4fb85dc",
   "metadata": {},
   "source": [
    "## "
   ]
  },
  {
   "cell_type": "markdown",
   "id": "1e506e8d-fdb7-467c-9160-15c554e4d007",
   "metadata": {},
   "source": [
    "1.\tThere is a difference between the set room temperature at time one (temp_pref_1, temp_pref_2, temp_pref_3, temp_pref_4, temp_pref_5) and time two (temp_pref_1_t2, temp_pref_2_t2, temp_pref_3_t2, temp_pref_4_t2, temp_pref_5_t2), so that it is higher at time two. \r\n",
    "Proposed analysis: t-test. \r\n"
   ]
  },
  {
   "cell_type": "code",
   "execution_count": 4,
   "id": "1b54bc7c-4899-47b8-a9eb-29d2d323c725",
   "metadata": {},
   "outputs": [
    {
     "name": "stdout",
     "output_type": "stream",
     "text": [
      "Test for temp_pref_1: TtestResult(statistic=-0.9585487119228076, pvalue=0.17006062139351663, df=99)\n",
      "Test for temp_pref_2: TtestResult(statistic=1.1161418858721988, pvalue=0.8664684136125256, df=99)\n",
      "Test for temp_pref_3: TtestResult(statistic=0.9228791308292538, pvalue=0.8208430181259463, df=99)\n",
      "Test for temp_pref_4: TtestResult(statistic=0.5769906816497485, pvalue=0.7173722500392348, df=99)\n",
      "Test for temp_pref_5: TtestResult(statistic=0.3534294541816439, pvalue=0.637740995759017, df=99)\n"
     ]
    }
   ],
   "source": [
    "# Testing difference between two related samples with expectation that t1 < t2\n",
    "for i in range(1, 6):\n",
    "    test_result = ttest_rel(\n",
    "        responses_t1[f'temp_pref_{i}'],\n",
    "        responses_t2[f'temp_pref_{i}_t2'],\n",
    "        alternative='less'\n",
    "    )\n",
    "    print(f'Test for temp_pref_{i}: {test_result}')"
   ]
  },
  {
   "cell_type": "markdown",
   "id": "9e6001e7-bedd-499d-b42e-811dd03f0c04",
   "metadata": {},
   "source": [
    "2.\tThere is a difference in curtailment behaviours (empty, clothes, night, away, shut, shw_time): they are lower at time two (empty_t2, clothes_t2, night_t2, away_t2, shut_t2, shw_time_t2). \n",
    "Proposed analysis: t-test. "
   ]
  },
  {
   "cell_type": "code",
   "execution_count": 5,
   "id": "28f380af-4f94-4202-95cf-d5ed16bf6f14",
   "metadata": {},
   "outputs": [
    {
     "name": "stdout",
     "output_type": "stream",
     "text": [
      "Test for empty: TtestResult(statistic=-1.5102092746097349, pvalue=0.9329123691033485, df=99)\n",
      "Test for clothes: TtestResult(statistic=-0.5704232640328071, pvalue=0.7151584747997626, df=99)\n",
      "Test for night: TtestResult(statistic=-0.21528085542604986, pvalue=0.5850043818332482, df=99)\n",
      "Test for away: TtestResult(statistic=1.051960836181817, pvalue=0.14768922135789955, df=99)\n",
      "Test for shut: TtestResult(statistic=0.09879195451105251, pvalue=0.46075160772782076, df=99)\n",
      "Test for shw_time: TtestResult(statistic=-1.8101120855033719, pvalue=0.9633438964011646, df=99)\n"
     ]
    }
   ],
   "source": [
    "# Testing difference between two related samples with expectation that t1 > t2\n",
    "for description in ['empty', 'clothes', 'night', 'away', 'shut', 'shw_time']:\n",
    "    test_result = ttest_rel(\n",
    "        responses_t1[f'{description}'],\n",
    "        responses_t2[f'{description}_t2'],\n",
    "        alternative='greater'\n",
    "    )\n",
    "    print(f'Test for {description}: {test_result}')"
   ]
  },
  {
   "cell_type": "markdown",
   "id": "76309de5-cc17-45bb-8c84-13f32751ecb8",
   "metadata": {},
   "source": [
    "## Changes in energy-saving behaviour differ based on intrinsic motivation"
   ]
  },
  {
   "cell_type": "markdown",
   "id": "51d898cf-91a7-4cc4-9405-e46f251cb047",
   "metadata": {},
   "source": [
    "### Pearson's correlation"
   ]
  },
  {
   "cell_type": "markdown",
   "id": "e542d14b-924b-4dfb-bd7d-500e8c56e4fe",
   "metadata": {},
   "source": [
    "1.\tStronger biospheric and altruistic values (Bio_values, Altr_values) will be associated with smaller differences in temperature settings between time one (temp_pref_4, temp_pref_5, temp_pref_6) and time two (temp_pref_4_t2, temp_pref_5_t2, temp_pref_6_t2).  \n",
    "Proposed analysis: Pearson’s correlation or linear regression."
   ]
  },
  {
   "cell_type": "code",
   "execution_count": 6,
   "id": "8c6c391c-a970-43ce-9272-9286a2f1a619",
   "metadata": {},
   "outputs": [
    {
     "name": "stdout",
     "output_type": "stream",
     "text": [
      "temperature_setting  temp_pref_4  temp_pref_5\n",
      "aggregation                                  \n",
      "altruistic              0.180833    -0.045001\n",
      "biospheric             -0.058954    -0.057592\n",
      "\n",
      "temperature_setting  temp_pref_4  temp_pref_5\n",
      "aggregation                                  \n",
      "altruistic              0.964106     0.328314\n",
      "biospheric              0.280069     0.284627\n"
     ]
    }
   ],
   "source": [
    "results = []\n",
    "for aggregation, temp_pref in product(['biospheric', 'altruistic'], [f'temp_pref_{i}' for i in (4,5)]):\n",
    "    correlation = pearsonr(responses_t1[aggregation], differences[temp_pref], alternative='less')\n",
    "    results.append((aggregation, temp_pref, correlation.statistic, correlation.pvalue))\n",
    "\n",
    "correlation_table = pd.DataFrame(results, columns=['aggregation', 'temperature_setting', 'correlation', 'pvalue'])\n",
    "\n",
    "print(correlation_table.pivot(index='aggregation', columns='temperature_setting', values='correlation'))\n",
    "print()\n",
    "print(correlation_table.pivot(index='aggregation', columns='temperature_setting', values='pvalue'))"
   ]
  },
  {
   "cell_type": "markdown",
   "id": "3e389262-c4ff-4b56-a365-0a5b502f00fd",
   "metadata": {},
   "source": [
    " 2.\tStronger egoistic and hedonic values (Ego_values, Hed_values) will be associated with larger differences in temperature settings between time one (temp_pref_4, temp_pref_5, temp_pref_6) and time two (temp_pref_4_t2, temp_pref_5_t2, temp_pref_6_t2).\n",
    "Proposed analysis: Pearson’s correlation or linear regression."
   ]
  },
  {
   "cell_type": "code",
   "execution_count": null,
   "id": "cccd6073-ef96-491c-8d14-82f0de8ff430",
   "metadata": {},
   "outputs": [],
   "source": []
  },
  {
   "cell_type": "markdown",
   "id": "d59c997d-19ed-46ad-9107-ef9a5b9aaf50",
   "metadata": {},
   "source": [
    "3.\tStronger biospheric and altruistic values (Bio_values, Altr_values) will be associated with smaller differences in curtailment behaviours between time one (empty, clothes, night, away, shut, shw_time, shw_time, shw_time_num, shw_frw_num, bath_num) and time two (empty_t2, clothes_t2, night_t2, away_t2, shut_t2, shw_time_t2, shw_time_t2, shw_time_num_t2, shw_frw_num_t2, bath_num_t2).\n",
    "Proposed analysis: Pearson’s correlation or linear regression."
   ]
  },
  {
   "cell_type": "code",
   "execution_count": null,
   "id": "f5fde1e1-322a-418c-a413-9dec9186d7cb",
   "metadata": {},
   "outputs": [],
   "source": []
  },
  {
   "cell_type": "markdown",
   "id": "3d365b70-def7-457c-b395-724a0ed7ada1",
   "metadata": {},
   "source": [
    "4.\tStronger egoistic and hedonic values (Ego_values, Hed_values) will be associated with bigger differences in curtailment behaviours between time one (empty, clothes, night, away, shut, shw_time, shw_time_num, shw_frw_num, bath_num) and time two (empty_t2, clothes_t2, night_t2, away_t2, shut_t2, shw_time_t2, shw_time_t2, shw_time_num_t2, shw_frw_num_t2, bath_num_t2).\n",
    "Proposed analysis: Pearson’s correlation or linear regression."
   ]
  },
  {
   "cell_type": "markdown",
   "id": "d6fef900-91f1-4332-8fd5-d8cbd2d7ba93",
   "metadata": {},
   "source": [
    "### Linear Regression"
   ]
  },
  {
   "cell_type": "markdown",
   "id": "6e152bfa-68c2-4fc8-8cb5-a7e078c2eae7",
   "metadata": {},
   "source": [
    "Repeating the analysis for the same four hypotheses above, but this time as linear regression instead"
   ]
  },
  {
   "cell_type": "markdown",
   "id": "9427ef29-998c-46b2-99a5-ea37c27d3cef",
   "metadata": {},
   "source": [
    "1.\tStronger biospheric and altruistic values (Bio_values, Altr_values) will be associated with smaller differences in temperature settings between time one (temp_pref_4, temp_pref_5, temp_pref_6) and time two (temp_pref_4_t2, temp_pref_5_t2, temp_pref_6_t2).  \n",
    "Proposed analysis: Pearson’s correlation or linear regression."
   ]
  },
  {
   "cell_type": "code",
   "execution_count": 16,
   "id": "ad36da96-a2fb-440d-a6f4-20cf0b1a1583",
   "metadata": {},
   "outputs": [
    {
     "name": "stderr",
     "output_type": "stream",
     "text": [
      "/tmp/ipykernel_23130/1844591889.py:22: UserWarning: FigureCanvasAgg is non-interactive, and thus cannot be shown\n",
      "  fig.show()\n"
     ]
    },
    {
     "data": {
      "image/png": "[encoded data removed]",
      "text/plain": [
       "<Figure size 640x480 with 4 Axes>"
      ]
     },
     "metadata": {},
     "output_type": "display_data"
    }
   ],
   "source": [
    "aggregations = ['biospheric', 'altruistic']\n",
    "temp_prefs = [f'temp_pref_{i}' for i in (4,5)]\n",
    "\n",
    "fig, axes = plt.subplots(nrows=len(aggregations), ncols=len(temp_prefs))\n",
    "# results = []\n",
    "for (i_x, aggregation), (i_y, temp_pref) in product(enumerate(aggregations), enumerate(temp_prefs)):\n",
    "    reg = LinearRegression().fit(responses_t1[aggregation].values.reshape(-1,1), differences[temp_pref])\n",
    "    # results.append((aggregation, temp_pref, reg.coef_, reg.intercept_))\n",
    "\n",
    "    x_test = np.array([\n",
    "        [responses_t1[aggregation].min()],\n",
    "        [responses_t1[aggregation].max()],\n",
    "    ])\n",
    "    y_pred = reg.predict(x_test)\n",
    "\n",
    "    axes[i_x, i_y].scatter(responses_t1[aggregation], differences[temp_pref], s=8)\n",
    "    axes[i_x, i_y].plot(x_test, y_pred, color='C1', linewidth=3)\n",
    "    axes[i_x, i_y].set_xlabel(aggregation)\n",
    "    axes[i_x, i_y].set_ylabel(temp_pref)\n",
    "\n",
    "plt.tight_layout()\n",
    "fig.show()"
   ]
  },
  {
   "cell_type": "markdown",
   "id": "3d45c9f5-f61c-4a22-a730-c17a72c5ea69",
   "metadata": {},
   "source": [
    " 2.\tStronger egoistic and hedonic values (Ego_values, Hed_values) will be associated with larger differences in temperature settings between time one (temp_pref_4, temp_pref_5, temp_pref_6) and time two (temp_pref_4_t2, temp_pref_5_t2, temp_pref_6_t2).\n",
    "Proposed analysis: Pearson’s correlation or linear regression."
   ]
  },
  {
   "cell_type": "code",
   "execution_count": null,
   "id": "830d00b8-1073-43f8-90db-6a258fdb192c",
   "metadata": {},
   "outputs": [],
   "source": []
  },
  {
   "cell_type": "markdown",
   "id": "1311be44-d3dc-498b-bafc-6072ee25c090",
   "metadata": {},
   "source": [
    "3.\tStronger biospheric and altruistic values (Bio_values, Altr_values) will be associated with smaller differences in curtailment behaviours between time one (empty, clothes, night, away, shut, shw_time, shw_time, shw_time_num, shw_frw_num, bath_num) and time two (empty_t2, clothes_t2, night_t2, away_t2, shut_t2, shw_time_t2, shw_time_t2, shw_time_num_t2, shw_frw_num_t2, bath_num_t2).\n",
    "Proposed analysis: Pearson’s correlation or linear regression."
   ]
  },
  {
   "cell_type": "code",
   "execution_count": null,
   "id": "e9252911-32d9-48c7-8745-cab396b147aa",
   "metadata": {},
   "outputs": [],
   "source": []
  },
  {
   "cell_type": "markdown",
   "id": "4d65dde3-8eb8-4013-8fdb-054d382791f0",
   "metadata": {},
   "source": [
    "4.\tStronger egoistic and hedonic values (Ego_values, Hed_values) will be associated with bigger differences in curtailment behaviours between time one (empty, clothes, night, away, shut, shw_time, shw_time_num, shw_frw_num, bath_num) and time two (empty_t2, clothes_t2, night_t2, away_t2, shut_t2, shw_time_t2, shw_time_t2, shw_time_num_t2, shw_frw_num_t2, bath_num_t2).\n",
    "Proposed analysis: Pearson’s correlation or linear regression."
   ]
  }
 ],
 "metadata": {
  "kernelspec": {
   "display_name": "Python 3 (ipykernel)",
   "language": "python",
   "name": "python3"
  },
  "language_info": {
   "codemirror_mode": {
    "name": "ipython",
    "version": 3
   },
   "file_extension": ".py",
   "mimetype": "text/x-python",
   "name": "python",
   "nbconvert_exporter": "python",
   "pygments_lexer": "ipython3",
   "version": "3.12.1"
  }
 },
 "nbformat": 4,
 "nbformat_minor": 5
}
